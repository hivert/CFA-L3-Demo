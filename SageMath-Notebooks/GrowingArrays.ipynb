{
 "cells": [
  {
   "cell_type": "markdown",
   "metadata": {},
   "source": [
    "# Tableau dynamique et réallocations"
   ]
  },
  {
   "cell_type": "code",
   "execution_count": null,
   "metadata": {},
   "outputs": [],
   "source": [
    "l = [1,3,2]"
   ]
  },
  {
   "cell_type": "code",
   "execution_count": null,
   "metadata": {},
   "outputs": [],
   "source": [
    "l.append(5)"
   ]
  },
  {
   "cell_type": "code",
   "execution_count": null,
   "metadata": {},
   "outputs": [],
   "source": [
    "l"
   ]
  },
  {
   "cell_type": "code",
   "execution_count": null,
   "metadata": {},
   "outputs": [],
   "source": [
    "l.insert(0, 8)"
   ]
  },
  {
   "cell_type": "code",
   "execution_count": null,
   "metadata": {},
   "outputs": [],
   "source": [
    "l"
   ]
  },
  {
   "cell_type": "code",
   "execution_count": null,
   "metadata": {},
   "outputs": [],
   "source": [
    "l.insert(3, 17)"
   ]
  },
  {
   "cell_type": "code",
   "execution_count": null,
   "metadata": {},
   "outputs": [],
   "source": [
    "l"
   ]
  },
  {
   "cell_type": "code",
   "execution_count": null,
   "metadata": {},
   "outputs": [],
   "source": []
  },
  {
   "cell_type": "code",
   "execution_count": null,
   "metadata": {},
   "outputs": [],
   "source": [
    "l =[]\n",
    "for i in range(10):\n",
    "    l.append(i)\n",
    "l"
   ]
  },
  {
   "cell_type": "code",
   "execution_count": null,
   "metadata": {},
   "outputs": [],
   "source": [
    "l =[]\n",
    "for i in range(10):\n",
    "    l.insert(0,i)\n",
    "l"
   ]
  },
  {
   "cell_type": "code",
   "execution_count": null,
   "metadata": {},
   "outputs": [],
   "source": []
  },
  {
   "cell_type": "code",
   "execution_count": null,
   "metadata": {},
   "outputs": [],
   "source": []
  },
  {
   "cell_type": "code",
   "execution_count": null,
   "metadata": {},
   "outputs": [],
   "source": [
    "timeit(\"l =[]\\nfor i in range(1000): \\n   l.append(i)\")"
   ]
  },
  {
   "cell_type": "code",
   "execution_count": null,
   "metadata": {},
   "outputs": [],
   "source": [
    "timeit(\"l =[]\\nfor i in range(10000): \\n   l.append(i)\")"
   ]
  },
  {
   "cell_type": "code",
   "execution_count": null,
   "metadata": {},
   "outputs": [],
   "source": [
    "timeit(\"l =[]\\nfor i in range(100000): \\n   l.append(i)\")"
   ]
  },
  {
   "cell_type": "code",
   "execution_count": null,
   "metadata": {},
   "outputs": [],
   "source": [
    "timeit(\"l =[]\\nfor i in range(1000): \\n   l.insert(0,i)\")"
   ]
  },
  {
   "cell_type": "code",
   "execution_count": null,
   "metadata": {},
   "outputs": [],
   "source": [
    "timeit(\"l =[]\\nfor i in range(10000): \\n   l.insert(0,i)\")"
   ]
  },
  {
   "cell_type": "code",
   "execution_count": null,
   "metadata": {},
   "outputs": [],
   "source": [
    "timeit(\"l =[]\\nfor i in range(100000): \\n   l.insert(0,i)\")"
   ]
  },
  {
   "cell_type": "markdown",
   "metadata": {},
   "source": [
    "## Implantation d'un tableau dynamique"
   ]
  },
  {
   "cell_type": "code",
   "execution_count": 1,
   "metadata": {},
   "outputs": [],
   "source": [
    "# Timings stuff \n",
    "# TODO: move this in a utility library\n",
    "\n",
    "def timeit_to_sec(tm):    \n",
    "    units = [u\"s\", u\"ms\", u\"μs\", u\"ns\"]\n",
    "    scaling = [1, 1e3, 1e6, 1e9]\n",
    "    _, _, _, nb, unit = tm.stats\n",
    "    return nb/scaling[units.index(unit)]\n",
    "    \n",
    "def timesec(expr, repeat = 1):\n",
    "    return timeit_to_sec( sage.misc.sage_timeit.sage_timeit(expr, globals(), repeat = repeat))\n",
    "    \n",
    "def curve(timings, color = \"black\"):\n",
    "    return line(timings, color=color, marker = \"x\")"
   ]
  },
  {
   "cell_type": "code",
   "execution_count": null,
   "metadata": {},
   "outputs": [],
   "source": []
  },
  {
   "cell_type": "code",
   "execution_count": 2,
   "metadata": {},
   "outputs": [],
   "source": [
    "%%cython\n",
    "from libc.stdlib cimport malloc, free\n",
    "cdef class MyArray(object):\n",
    "    cdef int _realloc_step      # taille des blocs  \n",
    "    cdef float _realloc_factor  # facteur de croissance de taille\n",
    "    cdef int _size\n",
    "    cdef int _capacity\n",
    "    cdef int *_array\n",
    "\n",
    "    def __cinit__(self):\n",
    "        self._size = 0\n",
    "        self._capacity = 1\n",
    "        self._array = <int *>malloc(sizeof(int) * self._capacity)\n",
    "\n",
    "    def __init__(self, float realloc_factor, int realloc_step):\n",
    "        self._realloc_factor = realloc_factor\n",
    "        self._realloc_step = realloc_step\n",
    "\n",
    "    cpdef append(MyArray self, int d):\n",
    "        if self._size >= self._capacity:\n",
    "            self.newalloc()\n",
    "        self._array[self._size] = d\n",
    "        self._size += 1\n",
    "\n",
    "    cpdef compute_new_capacity(self):\n",
    "        res = int(self._capacity*self._realloc_factor + \n",
    "                  self._realloc_step)\n",
    "        return max(res, self._size+1)\n",
    "        \n",
    "    cpdef newalloc(MyArray self):\n",
    "        cdef int *new_array\n",
    "        cdef int i\n",
    "        self._capacity = self.compute_new_capacity() \n",
    "        print(\"Realloc (capacity = %i)\"%self._capacity) \n",
    "        new_array = <int *>malloc(sizeof(int) * self._capacity)\n",
    "        for 0 <= i < self._size:\n",
    "             new_array[i] = self._array[i]\n",
    "        free(self._array)\n",
    "        self._array = new_array\n",
    "\n",
    "    def __getitem__(MyArray self, int i):\n",
    "        if 0 <= i < self._size:\n",
    "            return self._array[i]\n",
    "        else:\n",
    "            raise IndexError, \"array index out of range\"\n",
    "\n",
    "    def __len__(MyArray self):\n",
    "        return self._size\n",
    "    \n",
    "    def __dealloc__(MyArray self):\n",
    "        free(self._array)\n"
   ]
  },
  {
   "cell_type": "code",
   "execution_count": 5,
   "metadata": {},
   "outputs": [],
   "source": [
    "ar = MyArray(1., 10)"
   ]
  },
  {
   "cell_type": "code",
   "execution_count": 6,
   "metadata": {},
   "outputs": [
    {
     "data": {
      "text/plain": [
       "<_home_florent__sage_temp_millsmess_10357_tmp_zf8aixft_pyx_0.MyArray object at 0x7ff4d9cb0f60>"
      ]
     },
     "execution_count": 6,
     "metadata": {},
     "output_type": "execute_result"
    }
   ],
   "source": [
    "ar"
   ]
  },
  {
   "cell_type": "code",
   "execution_count": 7,
   "metadata": {},
   "outputs": [
    {
     "data": {
      "text/plain": [
       "[]"
      ]
     },
     "execution_count": 7,
     "metadata": {},
     "output_type": "execute_result"
    }
   ],
   "source": [
    "list(ar)"
   ]
  },
  {
   "cell_type": "code",
   "execution_count": 8,
   "metadata": {},
   "outputs": [],
   "source": [
    "ar.append(12)"
   ]
  },
  {
   "cell_type": "code",
   "execution_count": 9,
   "metadata": {},
   "outputs": [
    {
     "data": {
      "text/plain": [
       "<_home_florent__sage_temp_millsmess_10357_tmp_zf8aixft_pyx_0.MyArray object at 0x7ff4d9cb0f60>"
      ]
     },
     "execution_count": 9,
     "metadata": {},
     "output_type": "execute_result"
    }
   ],
   "source": [
    "ar"
   ]
  },
  {
   "cell_type": "code",
   "execution_count": 10,
   "metadata": {},
   "outputs": [
    {
     "data": {
      "text/plain": [
       "[12]"
      ]
     },
     "execution_count": 10,
     "metadata": {},
     "output_type": "execute_result"
    }
   ],
   "source": [
    "list(ar)"
   ]
  },
  {
   "cell_type": "code",
   "execution_count": 11,
   "metadata": {},
   "outputs": [
    {
     "name": "stdout",
     "output_type": "stream",
     "text": [
      "Realloc (capacity = 11)\n"
     ]
    }
   ],
   "source": [
    "ar.append(7)"
   ]
  },
  {
   "cell_type": "code",
   "execution_count": 12,
   "metadata": {},
   "outputs": [
    {
     "data": {
      "text/plain": [
       "[12, 7]"
      ]
     },
     "execution_count": 12,
     "metadata": {},
     "output_type": "execute_result"
    }
   ],
   "source": [
    "list(ar)"
   ]
  },
  {
   "cell_type": "code",
   "execution_count": 13,
   "metadata": {},
   "outputs": [],
   "source": [
    "ar.append(8)"
   ]
  },
  {
   "cell_type": "code",
   "execution_count": 14,
   "metadata": {},
   "outputs": [
    {
     "data": {
      "text/plain": [
       "[12, 7, 8]"
      ]
     },
     "execution_count": 14,
     "metadata": {},
     "output_type": "execute_result"
    }
   ],
   "source": [
    "list(ar)"
   ]
  },
  {
   "cell_type": "code",
   "execution_count": 15,
   "metadata": {},
   "outputs": [
    {
     "name": "stdout",
     "output_type": "stream",
     "text": [
      "Realloc (capacity = 21)\n",
      "Realloc (capacity = 31)\n",
      "Realloc (capacity = 41)\n",
      "Realloc (capacity = 51)\n",
      "Realloc (capacity = 61)\n",
      "Realloc (capacity = 71)\n",
      "Realloc (capacity = 81)\n",
      "Realloc (capacity = 91)\n",
      "Realloc (capacity = 101)\n",
      "Realloc (capacity = 111)\n"
     ]
    }
   ],
   "source": [
    "for i in range(100): ar.append(i^2)"
   ]
  },
  {
   "cell_type": "code",
   "execution_count": 16,
   "metadata": {},
   "outputs": [
    {
     "data": {
      "text/plain": [
       "[12,\n",
       " 7,\n",
       " 8,\n",
       " 0,\n",
       " 1,\n",
       " 4,\n",
       " 9,\n",
       " 16,\n",
       " 25,\n",
       " 36,\n",
       " 49,\n",
       " 64,\n",
       " 81,\n",
       " 100,\n",
       " 121,\n",
       " 144,\n",
       " 169,\n",
       " 196,\n",
       " 225,\n",
       " 256,\n",
       " 289,\n",
       " 324,\n",
       " 361,\n",
       " 400,\n",
       " 441,\n",
       " 484,\n",
       " 529,\n",
       " 576,\n",
       " 625,\n",
       " 676,\n",
       " 729,\n",
       " 784,\n",
       " 841,\n",
       " 900,\n",
       " 961,\n",
       " 1024,\n",
       " 1089,\n",
       " 1156,\n",
       " 1225,\n",
       " 1296,\n",
       " 1369,\n",
       " 1444,\n",
       " 1521,\n",
       " 1600,\n",
       " 1681,\n",
       " 1764,\n",
       " 1849,\n",
       " 1936,\n",
       " 2025,\n",
       " 2116,\n",
       " 2209,\n",
       " 2304,\n",
       " 2401,\n",
       " 2500,\n",
       " 2601,\n",
       " 2704,\n",
       " 2809,\n",
       " 2916,\n",
       " 3025,\n",
       " 3136,\n",
       " 3249,\n",
       " 3364,\n",
       " 3481,\n",
       " 3600,\n",
       " 3721,\n",
       " 3844,\n",
       " 3969,\n",
       " 4096,\n",
       " 4225,\n",
       " 4356,\n",
       " 4489,\n",
       " 4624,\n",
       " 4761,\n",
       " 4900,\n",
       " 5041,\n",
       " 5184,\n",
       " 5329,\n",
       " 5476,\n",
       " 5625,\n",
       " 5776,\n",
       " 5929,\n",
       " 6084,\n",
       " 6241,\n",
       " 6400,\n",
       " 6561,\n",
       " 6724,\n",
       " 6889,\n",
       " 7056,\n",
       " 7225,\n",
       " 7396,\n",
       " 7569,\n",
       " 7744,\n",
       " 7921,\n",
       " 8100,\n",
       " 8281,\n",
       " 8464,\n",
       " 8649,\n",
       " 8836,\n",
       " 9025,\n",
       " 9216,\n",
       " 9409,\n",
       " 9604,\n",
       " 9801]"
      ]
     },
     "execution_count": 16,
     "metadata": {},
     "output_type": "execute_result"
    }
   ],
   "source": [
    "list(ar)"
   ]
  },
  {
   "cell_type": "code",
   "execution_count": 18,
   "metadata": {},
   "outputs": [],
   "source": [
    "l = [100, 200, 500, 1000, 2500, 5000, 10000, 25000, 50000, 100000, 200000, 400000]"
   ]
  },
  {
   "cell_type": "code",
   "execution_count": null,
   "metadata": {},
   "outputs": [],
   "source": [
    "l"
   ]
  },
  {
   "cell_type": "code",
   "execution_count": null,
   "metadata": {},
   "outputs": [],
   "source": []
  },
  {
   "cell_type": "code",
   "execution_count": 19,
   "metadata": {},
   "outputs": [
    {
     "name": "stdout",
     "output_type": "stream",
     "text": [
      "Constant 1\n",
      "Constant 20\n",
      "Constant 100\n",
      "Proportional 1%\n",
      "Proportional 10%\n",
      "Proportional 50%\n",
      "Proportional *2\n"
     ]
    }
   ],
   "source": [
    "l_1 = [(n, timesec(\"a = MyArray(1., 1)\\nfor i in range(%i): a.append(i)\"\"\"%n)) for n in l if n <= 25000]\n",
    "print(\"Constant 1\")\n",
    "l_20 = [(n, timesec(\"a = MyArray(1., 20)\\nfor i in range(%i): a.append(i)\"%n)) for n in l if n <= 100000]\n",
    "print(\"Constant 20\")\n",
    "l_100 = [(n, timesec(\"a = MyArray(1., 100)\\nfor i in range(%i): a.append(i)\"%n)) for n in l if n <= 200000]\n",
    "print(\"Constant 100\")\n",
    "l01 = [(n, timesec(\"a = MyArray(1.01, 0)\\nfor i in range(%i): a.append(i)\"%n)) for n in l]\n",
    "print(\"Proportional 1%\")\n",
    "l1 = [(n, timesec(\"a = MyArray(1.1, 0)\\nfor i in range(%i): a.append(i)\"%n)) for n in l]\n",
    "print(\"Proportional 10%\")\n",
    "l5 = [(n, timesec(\"a = MyArray(1.5, 0)\\nfor i in range(%i): a.append(i)\"%n)) for n in l]\n",
    "print(\"Proportional 50%\")\n",
    "l2 = [(n, timesec(\"a = MyArray(2., 0)\\nfor i in range(%i): a.append(i)\"%n)) for n in l]\n",
    "print(\"Proportional *2\")"
   ]
  },
  {
   "cell_type": "code",
   "execution_count": 20,
   "metadata": {},
   "outputs": [],
   "source": [
    "def curve(timings, color = \"black\", name = \"\"):\n",
    "    return line(timings, color=color, marker = \"x\") + point(timings[-1], color = color, legend_label = name)"
   ]
  },
  {
   "cell_type": "code",
   "execution_count": 21,
   "metadata": {},
   "outputs": [
    {
     "data": {
      "image/png": "[encoded data removed]",
      "text/plain": [
       "Graphics object consisting of 14 graphics primitives"
      ]
     },
     "metadata": {},
     "output_type": "display_data"
    }
   ],
   "source": [
    "( curve(l_1,   \"lightgray\",   \"cons 1\") +\n",
    "  curve(l_20,  \"gray\",   \"Cons 20\") + \n",
    "  curve(l_100, \"black\",  \"Cons 100\") + \n",
    "  curve(l01,   \"violet\", \"Prop 1%\") + \n",
    "  curve(l1,    \"blue\",   \"Prop 10%\") + \n",
    "  curve(l5,    \"red\",    \"Prop 50%\") + \n",
    "  curve(l2,    \"green\",  \"Prop *2\")).show()"
   ]
  },
  {
   "cell_type": "code",
   "execution_count": 22,
   "metadata": {},
   "outputs": [],
   "source": [
    "lg_1 = [(log(x)/log(10), log(y)/log(10)) for (x, y) in l_1]\n",
    "lg_20 = [(log(x)/log(10), log(y)/log(10)) for (x, y) in l_20]\n",
    "lg_100 = [(log(x)/log(10), log(y)/log(10)) for (x, y) in l_100]\n",
    "lg01 = [(log(x)/log(10), log(y)/log(10)) for (x, y) in l01]\n",
    "lg1 = [(log(x)/log(10), log(y)/log(10)) for (x, y) in l1]\n",
    "lg5 = [(log(x)/log(10), log(y)/log(10)) for (x, y) in l5]\n",
    "lg2 = [(log(x)/log(10), log(y)/log(10)) for (x, y) in l2]"
   ]
  },
  {
   "cell_type": "code",
   "execution_count": 23,
   "metadata": {},
   "outputs": [
    {
     "data": {
      "image/png": "[encoded data removed]",
      "text/plain": [
       "Graphics object consisting of 14 graphics primitives"
      ]
     },
     "metadata": {},
     "output_type": "display_data"
    }
   ],
   "source": [
    "( curve(lg_1,   \"lightgray\", \"Cons 1\") + \n",
    "  curve(lg_20,  \"gray\",      \"Cons 20\") + \n",
    "  curve(lg_100, \"black\",     \"Cons 100\") + \n",
    "  curve(lg01,   \"violet\",    \"Prop 1%\") + \n",
    "  curve(lg1,    \"blue\",      \"Prop 10%\") + \n",
    "  curve(lg5,    \"red\",       \"Prop 50%\") + \n",
    "  curve(lg2,    \"green\",     \"Prop *2\")).show()"
   ]
  },
  {
   "cell_type": "code",
   "execution_count": null,
   "metadata": {},
   "outputs": [],
   "source": []
  },
  {
   "cell_type": "code",
   "execution_count": null,
   "metadata": {},
   "outputs": [],
   "source": []
  },
  {
   "cell_type": "code",
   "execution_count": null,
   "metadata": {},
   "outputs": [],
   "source": []
  },
  {
   "cell_type": "code",
   "execution_count": null,
   "metadata": {},
   "outputs": [],
   "source": []
  },
  {
   "cell_type": "code",
   "execution_count": null,
   "metadata": {},
   "outputs": [],
   "source": []
  },
  {
   "cell_type": "code",
   "execution_count": null,
   "metadata": {},
   "outputs": [],
   "source": []
  },
  {
   "cell_type": "code",
   "execution_count": null,
   "metadata": {},
   "outputs": [],
   "source": []
  },
  {
   "cell_type": "code",
   "execution_count": null,
   "metadata": {},
   "outputs": [],
   "source": []
  },
  {
   "cell_type": "code",
   "execution_count": null,
   "metadata": {},
   "outputs": [],
   "source": []
  },
  {
   "cell_type": "code",
   "execution_count": null,
   "metadata": {},
   "outputs": [],
   "source": []
  },
  {
   "cell_type": "code",
   "execution_count": null,
   "metadata": {},
   "outputs": [],
   "source": [
    "from datetime import datetime, date, time"
   ]
  },
  {
   "cell_type": "code",
   "execution_count": null,
   "metadata": {},
   "outputs": [],
   "source": [
    "before = datetime.now() \n",
    "after = datetime.now()\n",
    "delta = after - before\n",
    "delta"
   ]
  },
  {
   "cell_type": "code",
   "execution_count": null,
   "metadata": {},
   "outputs": [],
   "source": [
    "delta.microseconds"
   ]
  },
  {
   "cell_type": "code",
   "execution_count": null,
   "metadata": {},
   "outputs": [],
   "source": [
    "after = datetime.now()\n",
    "delta = after - before\n",
    "delta"
   ]
  },
  {
   "cell_type": "code",
   "execution_count": null,
   "metadata": {},
   "outputs": [],
   "source": [
    "delta.microseconds"
   ]
  },
  {
   "cell_type": "code",
   "execution_count": null,
   "metadata": {},
   "outputs": [],
   "source": [
    "delta.seconds + delta.microseconds*1e-6"
   ]
  },
  {
   "cell_type": "code",
   "execution_count": null,
   "metadata": {},
   "outputs": [],
   "source": [
    "l = []\n",
    "timings = [(0,0)]\n",
    "debut = datetime.now()\n",
    "for i in range(1, 21):\n",
    "    for j in range(5000):\n",
    "        # l.append(i)\n",
    "        l.insert(0,i)\n",
    "    fin = datetime.now()\n",
    "    delta = fin - debut\n",
    "    timings.append((5000*i, delta.seconds + delta.microseconds*1e-6))"
   ]
  },
  {
   "cell_type": "code",
   "execution_count": null,
   "metadata": {},
   "outputs": [],
   "source": [
    "len(l)"
   ]
  },
  {
   "cell_type": "code",
   "execution_count": null,
   "metadata": {},
   "outputs": [],
   "source": [
    "timings"
   ]
  },
  {
   "cell_type": "code",
   "execution_count": null,
   "metadata": {},
   "outputs": [],
   "source": []
  },
  {
   "cell_type": "code",
   "execution_count": null,
   "metadata": {},
   "outputs": [],
   "source": []
  },
  {
   "cell_type": "code",
   "execution_count": null,
   "metadata": {},
   "outputs": [],
   "source": [
    "l = []\n",
    "for i in range(1000000):\n",
    "    l.append(i)"
   ]
  },
  {
   "cell_type": "code",
   "execution_count": null,
   "metadata": {},
   "outputs": [],
   "source": [
    "len(l)"
   ]
  },
  {
   "cell_type": "code",
   "execution_count": null,
   "metadata": {},
   "outputs": [],
   "source": []
  }
 ],
 "metadata": {
  "kernelspec": {
   "display_name": "SageMath 9.0",
   "language": "sage",
   "name": "sagemath"
  },
  "language": "python",
  "language_info": {
   "codemirror_mode": {
    "name": "ipython",
    "version": 3
   },
   "file_extension": ".py",
   "mimetype": "text/x-python",
   "name": "python",
   "nbconvert_exporter": "python",
   "pygments_lexer": "ipython3",
   "version": "3.7.3"
  }
 },
 "nbformat": 4,
 "nbformat_minor": 2
}
