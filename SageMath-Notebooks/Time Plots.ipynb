{
 "cells": [
  {
   "cell_type": "code",
   "execution_count": 3,
   "metadata": {},
   "outputs": [],
   "source": [
    "def timeit_to_sec(tm):\n",
    "    units = [u\"s\", u\"ms\", '\\xc2\\xb5s', u\"ns\"]\n",
    "    scaling = [1, 1e3, 1e6, 1e9]\n",
    "    _, _, _, nb, unit = tm.stats\n",
    "    return nb/scaling[units.index(unit)]\n",
    "    \n",
    "def timesec(expr, repeat = 1):\n",
    "    return timeit_to_sec( sage.misc.sage_timeit.sage_timeit(expr, globals(), repeat = repeat))"
   ]
  },
  {
   "cell_type": "code",
   "execution_count": 6,
   "metadata": {},
   "outputs": [
    {
     "name": "stderr",
     "output_type": "stream",
     "text": [
      "/home/data/Sage-Install/sage-8.4/local/lib/python2.7/site-packages/sage/repl/ipython_kernel/__main__.py:5: UnicodeWarning: Unicode equal comparison failed to convert both arguments to Unicode - interpreting them as being unequal\n"
     ]
    },
    {
     "data": {
      "text/plain": [
       "[(0, 3.05557250976563e-7),\n",
       " (1, 3.93295288085937e-7),\n",
       " (2, 3.63159179687500e-7),\n",
       " (3, 4.46319580078125e-7),\n",
       " (4, 2.97546386718750e-7),\n",
       " (5, 3.71170043945312e-7),\n",
       " (6, 2.63977050781250e-7),\n",
       " (7, 3.63159179687500e-7),\n",
       " (8, 3.71170043945312e-7),\n",
       " (9, 4.11224365234375e-7),\n",
       " (10, 3.37600708007812e-7),\n",
       " (11, 3.08609008789062e-7),\n",
       " (12, 4.86373901367188e-7),\n",
       " (13, 3.37600708007812e-7),\n",
       " (14, 7.05337524414063e-7),\n",
       " (15, 3.12004089355469e-6),\n",
       " (16, 4.85420227050781e-6),\n",
       " (17, 7.34252929687500e-6),\n",
       " (18, 0.0000117488861083984),\n",
       " (19, 0.0000207519531250000),\n",
       " (20, 0.0000405647277832031),\n",
       " (21, 0.0000680015563964844),\n",
       " (22, 0.000133209609985352),\n",
       " (23, 0.000262445068359375),\n",
       " (24, 0.000531166076660156),\n",
       " (25, 0.00105621948242187),\n",
       " (26, 0.00213074493408203),\n",
       " (27, 0.00448587226867676),\n",
       " (28, 0.00910491943359375),\n",
       " (29, 0.0183226394653320),\n",
       " (30, 0.0365706443786621),\n",
       " (31, 0.0734232425689697)]"
      ]
     },
     "execution_count": 6,
     "metadata": {},
     "output_type": "execute_result"
    }
   ],
   "source": [
    "stats = [(i, timesec(\"2^(2^i)\") ) for i in range(32)]\n",
    "stats"
   ]
  },
  {
   "cell_type": "code",
   "execution_count": 7,
   "metadata": {},
   "outputs": [
    {
     "data": {
      "image/png": "[encoded data removed]",
      "text/plain": [
       "Graphics object consisting of 1 graphics primitive"
      ]
     },
     "execution_count": 7,
     "metadata": {},
     "output_type": "execute_result"
    }
   ],
   "source": [
    "line(((i, log(v)/log(10.)) for (i,v) in stats), color=\"green\")"
   ]
  },
  {
   "cell_type": "code",
   "execution_count": 28,
   "metadata": {},
   "outputs": [],
   "source": [
    "def puiss(a, n):\n",
    "    res = 1\n",
    "    for i in range(n):\n",
    "        res *= a\n",
    "    return res\n",
    "    \n",
    "def puissrec(a, N):\n",
    "    if N == 0: \n",
    "        return 1\n",
    "    elif N % 2 == 0:\n",
    "        res = puissrec(a, N/2)\n",
    "        return res*res\n",
    "    else:\n",
    "        return a*puissrec(a, N-1)"
   ]
  },
  {
   "cell_type": "code",
   "execution_count": 29,
   "metadata": {},
   "outputs": [
    {
     "name": "stdout",
     "output_type": "stream",
     "text": [
      "625 loops, best of 3: 28 µs per loop\n"
     ]
    }
   ],
   "source": [
    "puiss(2,10), puissrec(2, 10)\n",
    "timeit(\"puissrec(2,10000)\")"
   ]
  },
  {
   "cell_type": "code",
   "execution_count": 30,
   "metadata": {},
   "outputs": [
    {
     "name": "stdout",
     "output_type": "stream",
     "text": [
      "625 loops, best of 3: 1.38 ms per loop\n",
      "625 loops, best of 3: 28.1 µs per loop\n"
     ]
    },
    {
     "data": {
      "text/plain": [
       "(None, None)"
      ]
     },
     "execution_count": 30,
     "metadata": {},
     "output_type": "execute_result"
    }
   ],
   "source": [
    "timeit(\"puiss(2,10000)\"),timeit(\"puissrec(2,10000)\")"
   ]
  },
  {
   "cell_type": "code",
   "execution_count": 31,
   "metadata": {},
   "outputs": [
    {
     "name": "stdout",
     "output_type": "stream",
     "text": [
      "125 loops, best of 3: 3.73 ms per loop\n",
      "625 loops, best of 3: 29.5 µs per loop\n"
     ]
    },
    {
     "data": {
      "text/plain": [
       "(None, None)"
      ]
     },
     "execution_count": 31,
     "metadata": {},
     "output_type": "execute_result"
    }
   ],
   "source": [
    "timeit(\"puiss(2,20000)\"),timeit(\"puissrec(2,20000)\")"
   ]
  },
  {
   "cell_type": "code",
   "execution_count": null,
   "metadata": {},
   "outputs": [],
   "source": []
  },
  {
   "cell_type": "code",
   "execution_count": 32,
   "metadata": {},
   "outputs": [],
   "source": [
    "def eval2(pol, a):\n",
    "    res = 0.\n",
    "    p = 1.\n",
    "    for i in range(len(pol)):\n",
    "        res += pol[i]*p\n",
    "        p *= a\n",
    "    return res"
   ]
  },
  {
   "cell_type": "code",
   "execution_count": 33,
   "metadata": {},
   "outputs": [],
   "source": [
    "def eval3(pol, a):\n",
    "    res = pol[-1]\n",
    "    for i in range(len(pol)-2, -1, -1):\n",
    "        res = res*a + pol[i]\n",
    "    return res"
   ]
  },
  {
   "cell_type": "code",
   "execution_count": 34,
   "metadata": {},
   "outputs": [
    {
     "data": {
      "text/plain": [
       "(6690.35950374330, 6690.35950374330)"
      ]
     },
     "execution_count": 34,
     "metadata": {},
     "output_type": "execute_result"
    }
   ],
   "source": [
    "eval2([2.1]*10, 2.3), eval3([2.1]*10, 2.3)"
   ]
  },
  {
   "cell_type": "code",
   "execution_count": null,
   "metadata": {},
   "outputs": [],
   "source": []
  },
  {
   "cell_type": "code",
   "execution_count": 42,
   "metadata": {},
   "outputs": [],
   "source": [
    "m = 80"
   ]
  },
  {
   "cell_type": "code",
   "execution_count": 43,
   "metadata": {},
   "outputs": [
    {
     "name": "stderr",
     "output_type": "stream",
     "text": [
      "/home/data/Sage-Install/sage-8.4/local/lib/python2.7/site-packages/sage/repl/ipython_kernel/__main__.py:5: UnicodeWarning: Unicode equal comparison failed to convert both arguments to Unicode - interpreting them as being unequal\n"
     ]
    }
   ],
   "source": [
    "stats2 = [(i, timesec(\"eval2([2.1]*i, 2.3)\")) for i in range(2,m)]"
   ]
  },
  {
   "cell_type": "code",
   "execution_count": 44,
   "metadata": {},
   "outputs": [
    {
     "name": "stderr",
     "output_type": "stream",
     "text": [
      "/home/data/Sage-Install/sage-8.4/local/lib/python2.7/site-packages/sage/repl/ipython_kernel/__main__.py:5: UnicodeWarning: Unicode equal comparison failed to convert both arguments to Unicode - interpreting them as being unequal\n"
     ]
    }
   ],
   "source": [
    "stats3 = [(i, timesec(\"eval3([2.1]*i, 2.3)\")) for i in range(2,m)]"
   ]
  },
  {
   "cell_type": "code",
   "execution_count": 45,
   "metadata": {},
   "outputs": [
    {
     "data": {
      "image/png": "[encoded data removed]",
      "text/plain": [
       "Graphics object consisting of 2 graphics primitives"
      ]
     },
     "execution_count": 45,
     "metadata": {},
     "output_type": "execute_result"
    }
   ],
   "source": [
    "(line(((i, v) for (i,v) in stats2), color = \"green\") + \n",
    " line(((i, v) for (i,v) in stats3), color = \"red\"))"
   ]
  },
  {
   "cell_type": "code",
   "execution_count": null,
   "metadata": {},
   "outputs": [],
   "source": [
    "l = [1,3,5]"
   ]
  },
  {
   "cell_type": "code",
   "execution_count": null,
   "metadata": {},
   "outputs": [],
   "source": [
    "l"
   ]
  },
  {
   "cell_type": "code",
   "execution_count": null,
   "metadata": {},
   "outputs": [],
   "source": [
    "l[0]"
   ]
  },
  {
   "cell_type": "code",
   "execution_count": null,
   "metadata": {},
   "outputs": [],
   "source": [
    "l.append(10)"
   ]
  },
  {
   "cell_type": "code",
   "execution_count": null,
   "metadata": {},
   "outputs": [],
   "source": [
    "l"
   ]
  },
  {
   "cell_type": "code",
   "execution_count": null,
   "metadata": {},
   "outputs": [],
   "source": [
    "l.insert(0, 12)"
   ]
  },
  {
   "cell_type": "code",
   "execution_count": null,
   "metadata": {},
   "outputs": [],
   "source": [
    "l"
   ]
  },
  {
   "cell_type": "code",
   "execution_count": null,
   "metadata": {},
   "outputs": [],
   "source": [
    "l = []"
   ]
  },
  {
   "cell_type": "code",
   "execution_count": null,
   "metadata": {},
   "outputs": [],
   "source": [
    "for i in range(100): l.append(i^2)"
   ]
  },
  {
   "cell_type": "code",
   "execution_count": null,
   "metadata": {},
   "outputs": [],
   "source": [
    "l"
   ]
  },
  {
   "cell_type": "code",
   "execution_count": null,
   "metadata": {},
   "outputs": [],
   "source": [
    "l = []; timeit(\"for i in range(40): l.insert(0, i^2)\")"
   ]
  },
  {
   "cell_type": "code",
   "execution_count": null,
   "metadata": {},
   "outputs": [],
   "source": [
    "1340./320."
   ]
  },
  {
   "cell_type": "code",
   "execution_count": null,
   "metadata": {},
   "outputs": [],
   "source": []
  }
 ],
 "metadata": {
  "kernelspec": {
   "display_name": "SageMath 8.5.rc0",
   "language": "",
   "name": "sagemath"
  },
  "language": "python",
  "language_info": {
   "codemirror_mode": {
    "name": "ipython",
    "version": 2
   },
   "file_extension": ".py",
   "mimetype": "text/x-python",
   "name": "python",
   "nbconvert_exporter": "python",
   "pygments_lexer": "ipython2",
   "version": "2.7.15"
  }
 },
 "nbformat": 4,
 "nbformat_minor": 2
}
