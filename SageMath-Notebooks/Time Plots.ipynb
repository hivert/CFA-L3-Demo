{
 "cells": [
  {
   "cell_type": "code",
   "execution_count": 25,
   "metadata": {},
   "outputs": [],
   "source": [
    "def timeit_to_sec(tm):\n",
    "    units = [u\"s\", u\"ms\", '\\xc2\\xb5s', u\"ns\"]\n",
    "    scaling = [1, 1e3, 1e6, 1e9]\n",
    "    _, _, _, nb, unit = tm.stats\n",
    "    return nb/scaling[units.index(unit)]\n",
    "    \n",
    "def timesec(expr, repeat = 1):\n",
    "    return timeit_to_sec( sage.misc.sage_timeit.sage_timeit(expr, globals(), repeat = repeat))"
   ]
  },
  {
   "cell_type": "code",
   "execution_count": 47,
   "metadata": {},
   "outputs": [
    {
     "name": "stderr",
     "output_type": "stream",
     "text": [
      "/home/data/Sage-Install/sage-8.4/local/lib/python2.7/site-packages/sage/repl/ipython_kernel/__main__.py:5: UnicodeWarning: Unicode equal comparison failed to convert both arguments to Unicode - interpreting them as being unequal\n"
     ]
    },
    {
     "data": {
      "text/plain": [
       "[(0, 5.87081909179688e-7),\n",
       " (1, 5.18417358398437e-7),\n",
       " (2, 5.80978393554687e-7),\n",
       " (3, 6.72149658203125e-7),\n",
       " (4, 1.18560791015625e-6),\n",
       " (5, 5.88607788085937e-7),\n",
       " (6, 6.87789916992187e-7),\n",
       " (7, 5.87081909179688e-7),\n",
       " (8, 5.91659545898437e-7),\n",
       " (9, 6.78634643554688e-7),\n",
       " (10, 6.92749023437500e-7),\n",
       " (11, 6.83212280273438e-7),\n",
       " (12, 7.23266601562500e-7),\n",
       " (13, 7.12203979492188e-7),\n",
       " (14, 8.55636596679687e-7),\n",
       " (15, 5.66864013671875e-6),\n",
       " (16, 6.17103576660156e-6),\n",
       " (17, 7.43675231933594e-6),\n",
       " (18, 0.0000118335723876953),\n",
       " (19, 0.0000212512969970703),\n",
       " (20, 0.0000403808593750000),\n",
       " (21, 0.0000693901062011719),\n",
       " (22, 0.000134859085083008),\n",
       " (23, 0.000266692733764648),\n",
       " (24, 0.000541276931762695),\n",
       " (25, 0.00108292808532715),\n",
       " (26, 0.00219014358520508),\n",
       " (27, 0.00464260864257812),\n",
       " (28, 0.00972531318664551),\n",
       " (29, 0.0194881248474121),\n",
       " (30, 0.0392975234985352),\n",
       " (31, 0.0788465976715088)]"
      ]
     },
     "execution_count": 47,
     "metadata": {},
     "output_type": "execute_result"
    }
   ],
   "source": [
    "stats = [(i, timesec(\"2^(2^i)\") ) for i in range(32)]\n",
    "stats"
   ]
  },
  {
   "cell_type": "code",
   "execution_count": 48,
   "metadata": {},
   "outputs": [
    {
     "data": {
      "image/png": "[encoded data removed]",
      "text/plain": [
       "Graphics object consisting of 1 graphics primitive"
      ]
     },
     "execution_count": 48,
     "metadata": {},
     "output_type": "execute_result"
    }
   ],
   "source": [
    "line(((i, log(v)) for (i,v) in stats), color=\"green\")"
   ]
  },
  {
   "cell_type": "code",
   "execution_count": 28,
   "metadata": {},
   "outputs": [],
   "source": [
    "def puiss(a, n):\n",
    "    res = 1\n",
    "    for i in range(n):\n",
    "        res *= a\n",
    "    return res\n",
    "    \n",
    "def puissrec(a, N):\n",
    "    if N == 0: \n",
    "        return 1\n",
    "    elif N % 2 == 0:\n",
    "        res = puissrec(a, N/2)\n",
    "        return res*res\n",
    "    else:\n",
    "        return a*puissrec(a, N-1)"
   ]
  },
  {
   "cell_type": "code",
   "execution_count": 29,
   "metadata": {},
   "outputs": [
    {
     "name": "stdout",
     "output_type": "stream",
     "text": [
      "625 loops, best of 3: 28 µs per loop\n"
     ]
    }
   ],
   "source": [
    "puiss(2,10), puissrec(2, 10)\n",
    "timeit(\"puissrec(2,10000)\")"
   ]
  },
  {
   "cell_type": "code",
   "execution_count": 30,
   "metadata": {},
   "outputs": [
    {
     "name": "stdout",
     "output_type": "stream",
     "text": [
      "625 loops, best of 3: 1.38 ms per loop\n",
      "625 loops, best of 3: 28.1 µs per loop\n"
     ]
    },
    {
     "data": {
      "text/plain": [
       "(None, None)"
      ]
     },
     "execution_count": 30,
     "metadata": {},
     "output_type": "execute_result"
    }
   ],
   "source": [
    "timeit(\"puiss(2,10000)\"),timeit(\"puissrec(2,10000)\")"
   ]
  },
  {
   "cell_type": "code",
   "execution_count": 31,
   "metadata": {},
   "outputs": [
    {
     "name": "stdout",
     "output_type": "stream",
     "text": [
      "125 loops, best of 3: 3.73 ms per loop\n",
      "625 loops, best of 3: 29.5 µs per loop\n"
     ]
    },
    {
     "data": {
      "text/plain": [
       "(None, None)"
      ]
     },
     "execution_count": 31,
     "metadata": {},
     "output_type": "execute_result"
    }
   ],
   "source": [
    "timeit(\"puiss(2,20000)\"),timeit(\"puissrec(2,20000)\")"
   ]
  },
  {
   "cell_type": "code",
   "execution_count": null,
   "metadata": {},
   "outputs": [],
   "source": []
  },
  {
   "cell_type": "code",
   "execution_count": 32,
   "metadata": {},
   "outputs": [],
   "source": [
    "def eval2(pol, a):\n",
    "    res = 0.\n",
    "    p = 1.\n",
    "    for i in range(len(pol)):\n",
    "        res += pol[i]*p\n",
    "        p *= a\n",
    "    return res"
   ]
  },
  {
   "cell_type": "code",
   "execution_count": 33,
   "metadata": {},
   "outputs": [],
   "source": [
    "def eval3(pol, a):\n",
    "    res = pol[-1]\n",
    "    for i in range(len(pol)-2, -1, -1):\n",
    "        res = res*a + pol[i]\n",
    "    return res"
   ]
  },
  {
   "cell_type": "code",
   "execution_count": 34,
   "metadata": {},
   "outputs": [
    {
     "data": {
      "text/plain": [
       "(6690.35950374330, 6690.35950374330)"
      ]
     },
     "execution_count": 34,
     "metadata": {},
     "output_type": "execute_result"
    }
   ],
   "source": [
    "eval2([2.1]*10, 2.3), eval3([2.1]*10, 2.3)"
   ]
  },
  {
   "cell_type": "code",
   "execution_count": null,
   "metadata": {},
   "outputs": [],
   "source": []
  },
  {
   "cell_type": "code",
   "execution_count": 42,
   "metadata": {},
   "outputs": [],
   "source": [
    "m = 80"
   ]
  },
  {
   "cell_type": "code",
   "execution_count": 43,
   "metadata": {},
   "outputs": [
    {
     "name": "stderr",
     "output_type": "stream",
     "text": [
      "/home/data/Sage-Install/sage-8.4/local/lib/python2.7/site-packages/sage/repl/ipython_kernel/__main__.py:5: UnicodeWarning: Unicode equal comparison failed to convert both arguments to Unicode - interpreting them as being unequal\n"
     ]
    }
   ],
   "source": [
    "stats2 = [(i, timesec(\"eval2([2.1]*i, 2.3)\")) for i in range(2,m)]"
   ]
  },
  {
   "cell_type": "code",
   "execution_count": 44,
   "metadata": {},
   "outputs": [
    {
     "name": "stderr",
     "output_type": "stream",
     "text": [
      "/home/data/Sage-Install/sage-8.4/local/lib/python2.7/site-packages/sage/repl/ipython_kernel/__main__.py:5: UnicodeWarning: Unicode equal comparison failed to convert both arguments to Unicode - interpreting them as being unequal\n"
     ]
    }
   ],
   "source": [
    "stats3 = [(i, timesec(\"eval3([2.1]*i, 2.3)\")) for i in range(2,m)]"
   ]
  },
  {
   "cell_type": "code",
   "execution_count": 45,
   "metadata": {},
   "outputs": [
    {
     "data": {
      "image/png": "[encoded data removed]",
      "text/plain": [
       "Graphics object consisting of 2 graphics primitives"
      ]
     },
     "execution_count": 45,
     "metadata": {},
     "output_type": "execute_result"
    }
   ],
   "source": [
    "(line(((i, v) for (i,v) in stats2), color = \"green\") + \n",
    " line(((i, v) for (i,v) in stats3), color = \"red\"))"
   ]
  },
  {
   "cell_type": "code",
   "execution_count": null,
   "metadata": {},
   "outputs": [],
   "source": [
    "l = [1,3,5]"
   ]
  },
  {
   "cell_type": "code",
   "execution_count": null,
   "metadata": {},
   "outputs": [],
   "source": [
    "l"
   ]
  },
  {
   "cell_type": "code",
   "execution_count": null,
   "metadata": {},
   "outputs": [],
   "source": [
    "l[0]"
   ]
  },
  {
   "cell_type": "code",
   "execution_count": null,
   "metadata": {},
   "outputs": [],
   "source": [
    "l.append(10)"
   ]
  },
  {
   "cell_type": "code",
   "execution_count": null,
   "metadata": {},
   "outputs": [],
   "source": [
    "l"
   ]
  },
  {
   "cell_type": "code",
   "execution_count": null,
   "metadata": {},
   "outputs": [],
   "source": [
    "l.insert(0, 12)"
   ]
  },
  {
   "cell_type": "code",
   "execution_count": null,
   "metadata": {},
   "outputs": [],
   "source": [
    "l"
   ]
  },
  {
   "cell_type": "code",
   "execution_count": null,
   "metadata": {},
   "outputs": [],
   "source": [
    "l = []"
   ]
  },
  {
   "cell_type": "code",
   "execution_count": null,
   "metadata": {},
   "outputs": [],
   "source": [
    "for i in range(100): l.append(i^2)"
   ]
  },
  {
   "cell_type": "code",
   "execution_count": null,
   "metadata": {},
   "outputs": [],
   "source": [
    "l"
   ]
  },
  {
   "cell_type": "code",
   "execution_count": null,
   "metadata": {},
   "outputs": [],
   "source": [
    "l = []; timeit(\"for i in range(40): l.insert(0, i^2)\")"
   ]
  },
  {
   "cell_type": "code",
   "execution_count": null,
   "metadata": {},
   "outputs": [],
   "source": [
    "1340./320."
   ]
  },
  {
   "cell_type": "code",
   "execution_count": null,
   "metadata": {},
   "outputs": [],
   "source": []
  }
 ],
 "metadata": {
  "kernelspec": {
   "display_name": "SageMath 8.5.rc0",
   "language": "",
   "name": "sagemath"
  },
  "language": "python",
  "language_info": {
   "codemirror_mode": {
    "name": "ipython",
    "version": 2
   },
   "file_extension": ".py",
   "mimetype": "text/x-python",
   "name": "python",
   "nbconvert_exporter": "python",
   "pygments_lexer": "ipython2",
   "version": "2.7.15"
  }
 },
 "nbformat": 4,
 "nbformat_minor": 2
}
