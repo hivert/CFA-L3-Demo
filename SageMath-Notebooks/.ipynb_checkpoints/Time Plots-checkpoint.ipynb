{
 "cells": [
  {
   "cell_type": "code",
   "execution_count": 50,
   "metadata": {},
   "outputs": [],
   "source": [
    "def timeit_to_sec(tm):\n",
    "    units = [u\"s\", u\"ms\", u\"μs\", u\"ns\"]\n",
    "    scaling = [1, 1e3, 1e6, 1e9]\n",
    "    _, _, _, nb, unit = tm.stats\n",
    "    return nb/scaling[units.index(unit)]\n",
    "    \n",
    "def timesec(expr, repeat = 1):\n",
    "    return timeit_to_sec( sage.misc.sage_timeit.sage_timeit(expr, globals(), repeat = repeat))"
   ]
  },
  {
   "cell_type": "code",
   "execution_count": 51,
   "metadata": {},
   "outputs": [
    {
     "data": {
      "text/plain": [
       "[(0, 2.54440307617187e-7),\n",
       " (1, 3.65066528320312e-7),\n",
       " (2, 3.04031372070312e-7),\n",
       " (3, 4.58908081054688e-7),\n",
       " (4, 4.09698486328125e-7),\n",
       " (5, 3.20053100585938e-7),\n",
       " (6, 5.15365600585937e-7),\n",
       " (7, 3.43704223632812e-7),\n",
       " (8, 4.73403930664063e-7),\n",
       " (9, 3.52096557617187e-7),\n",
       " (10, 3.66592407226563e-7),\n",
       " (11, 3.63159179687500e-7),\n",
       " (12, 3.71551513671875e-7),\n",
       " (13, 4.94384765625000e-7),\n",
       " (14, 4.25720214843750e-7),\n",
       " (15, 3.65600585937500e-6),\n",
       " (16, 4.72335815429687e-6),\n",
       " (17, 7.34748840332031e-6),\n",
       " (18, 0.0000142238616943359),\n",
       " (19, 0.0000226707458496094),\n",
       " (20, 0.0000408496856689453),\n",
       " (21, 0.0000708015441894531),\n",
       " (22, 0.000136763000488281),\n",
       " (23, 0.000272598266601562),\n",
       " (24, 0.000547545623779297),\n",
       " (25, 0.00109343490600586),\n",
       " (26, 0.00219263267517090),\n",
       " (27, 0.00468567085266113),\n",
       " (28, 0.00964896202087402),\n",
       " (29, 0.0193219566345215)]"
      ]
     },
     "execution_count": 51,
     "metadata": {},
     "output_type": "execute_result"
    }
   ],
   "source": [
    "stats = [(i, timesec(\"2^(2^i)\") ) for i in range(30)]\n",
    "stats"
   ]
  },
  {
   "cell_type": "code",
   "execution_count": 52,
   "metadata": {},
   "outputs": [
    {
     "data": {
      "image/png": "[encoded data removed]",
      "text/plain": [
       "Graphics object consisting of 1 graphics primitive"
      ]
     },
     "execution_count": 52,
     "metadata": {},
     "output_type": "execute_result"
    }
   ],
   "source": [
    "line(((i, log(v)) for (i,v) in stats), color=\"green\")"
   ]
  },
  {
   "cell_type": "code",
   "execution_count": 53,
   "metadata": {},
   "outputs": [],
   "source": [
    "def puiss(a, n):\n",
    "    res = 1\n",
    "    for i in range(n):\n",
    "        res *= a\n",
    "    return res\n",
    "    \n",
    "def puissrec(a, N):\n",
    "    if N == 0: \n",
    "        return 1\n",
    "    elif N % 2 == 0:\n",
    "        res = puissrec(a, N/2)\n",
    "        return res*res\n",
    "    else:\n",
    "        return a*puissrec(a, N-1)"
   ]
  },
  {
   "cell_type": "code",
   "execution_count": 54,
   "metadata": {},
   "outputs": [
    {
     "data": {
      "text/plain": [
       "625 loops, best of 3: 28 μs per loop"
      ]
     },
     "execution_count": 54,
     "metadata": {},
     "output_type": "execute_result"
    }
   ],
   "source": [
    "puiss(2,10), puissrec(2, 10)\n",
    "timeit(\"puissrec(2,10000)\")"
   ]
  },
  {
   "cell_type": "code",
   "execution_count": 55,
   "metadata": {},
   "outputs": [
    {
     "data": {
      "text/plain": [
       "(625 loops, best of 3: 1.61 ms per loop,\n",
       " 625 loops, best of 3: 27.3 μs per loop)"
      ]
     },
     "execution_count": 55,
     "metadata": {},
     "output_type": "execute_result"
    }
   ],
   "source": [
    "timeit(\"puiss(2,10000)\"),timeit(\"puissrec(2,10000)\")"
   ]
  },
  {
   "cell_type": "code",
   "execution_count": 56,
   "metadata": {},
   "outputs": [
    {
     "data": {
      "text/plain": [
       "(125 loops, best of 3: 4.5 ms per loop,\n",
       " 625 loops, best of 3: 37.3 μs per loop)"
      ]
     },
     "execution_count": 56,
     "metadata": {},
     "output_type": "execute_result"
    }
   ],
   "source": [
    "timeit(\"puiss(2,20000)\"),timeit(\"puissrec(2,20000)\")"
   ]
  },
  {
   "cell_type": "code",
   "execution_count": null,
   "metadata": {},
   "outputs": [],
   "source": []
  },
  {
   "cell_type": "code",
   "execution_count": 75,
   "metadata": {},
   "outputs": [],
   "source": [
    "def eval2(pol, a):\n",
    "    res = 0.\n",
    "    p = 1.\n",
    "    for i in range(len(pol)):\n",
    "        res += pol[i]*p\n",
    "        p *= a\n",
    "    return res"
   ]
  },
  {
   "cell_type": "code",
   "execution_count": 76,
   "metadata": {},
   "outputs": [],
   "source": [
    "def eval3(pol, a):\n",
    "    res = pol[-1]\n",
    "    for i in range(len(pol)-2, -1, -1):\n",
    "        res = res*a + pol[i]\n",
    "    return res"
   ]
  },
  {
   "cell_type": "code",
   "execution_count": 77,
   "metadata": {},
   "outputs": [
    {
     "data": {
      "text/plain": [
       "(6690.35950374330, 6690.35950374330)"
      ]
     },
     "execution_count": 77,
     "metadata": {},
     "output_type": "execute_result"
    }
   ],
   "source": [
    "eval2([2.1]*10, 2.3), eval3([2.1]*10, 2.3)"
   ]
  },
  {
   "cell_type": "code",
   "execution_count": null,
   "metadata": {},
   "outputs": [],
   "source": []
  },
  {
   "cell_type": "code",
   "execution_count": 132,
   "metadata": {},
   "outputs": [],
   "source": [
    "m = 50"
   ]
  },
  {
   "cell_type": "code",
   "execution_count": 133,
   "metadata": {},
   "outputs": [],
   "source": [
    "stats2 = [(i, timesec(\"eval2([2.1]*i, 2.3)\")) for i in range(2,m)]"
   ]
  },
  {
   "cell_type": "code",
   "execution_count": 134,
   "metadata": {},
   "outputs": [],
   "source": [
    "stats3 = [(i, timesec(\"eval3([2.1]*i, 2.3)\")) for i in range(2,m)]"
   ]
  },
  {
   "cell_type": "code",
   "execution_count": 135,
   "metadata": {},
   "outputs": [
    {
     "data": {
      "image/png": "[encoded data removed]",
      "text/plain": [
       "Graphics object consisting of 2 graphics primitives"
      ]
     },
     "execution_count": 135,
     "metadata": {},
     "output_type": "execute_result"
    }
   ],
   "source": [
    "(line(((i, v) for (i,v) in stats2), color = \"green\") + \n",
    " line(((i, v) for (i,v) in stats3), color = \"red\"))"
   ]
  },
  {
   "cell_type": "code",
   "execution_count": null,
   "metadata": {},
   "outputs": [],
   "source": [
    "l = [1,3,5]"
   ]
  },
  {
   "cell_type": "code",
   "execution_count": null,
   "metadata": {},
   "outputs": [],
   "source": [
    "l"
   ]
  },
  {
   "cell_type": "code",
   "execution_count": null,
   "metadata": {},
   "outputs": [],
   "source": [
    "l[0]"
   ]
  },
  {
   "cell_type": "code",
   "execution_count": null,
   "metadata": {},
   "outputs": [],
   "source": [
    "l.append(10)"
   ]
  },
  {
   "cell_type": "code",
   "execution_count": null,
   "metadata": {},
   "outputs": [],
   "source": [
    "l"
   ]
  },
  {
   "cell_type": "code",
   "execution_count": null,
   "metadata": {},
   "outputs": [],
   "source": [
    "l.insert(0, 12)"
   ]
  },
  {
   "cell_type": "code",
   "execution_count": null,
   "metadata": {},
   "outputs": [],
   "source": [
    "l"
   ]
  },
  {
   "cell_type": "code",
   "execution_count": null,
   "metadata": {},
   "outputs": [],
   "source": [
    "l = []"
   ]
  },
  {
   "cell_type": "code",
   "execution_count": null,
   "metadata": {},
   "outputs": [],
   "source": [
    "for i in range(100): l.append(i^2)"
   ]
  },
  {
   "cell_type": "code",
   "execution_count": null,
   "metadata": {},
   "outputs": [],
   "source": [
    "l"
   ]
  },
  {
   "cell_type": "code",
   "execution_count": null,
   "metadata": {},
   "outputs": [],
   "source": [
    "l = []; timeit(\"for i in range(40): l.insert(0, i^2)\")"
   ]
  },
  {
   "cell_type": "code",
   "execution_count": null,
   "metadata": {},
   "outputs": [],
   "source": [
    "1340./320."
   ]
  },
  {
   "cell_type": "code",
   "execution_count": null,
   "metadata": {},
   "outputs": [],
   "source": []
  }
 ],
 "metadata": {
  "kernelspec": {
   "display_name": "SageMath 8.8.rc2",
   "language": "sage",
   "name": "sagemath"
  },
  "language": "python",
  "language_info": {
   "codemirror_mode": {
    "name": "ipython",
    "version": 2
   },
   "file_extension": ".py",
   "mimetype": "text/x-python",
   "name": "python",
   "nbconvert_exporter": "python",
   "pygments_lexer": "ipython2",
   "version": "2.7.15"
  }
 },
 "nbformat": 4,
 "nbformat_minor": 2
}
