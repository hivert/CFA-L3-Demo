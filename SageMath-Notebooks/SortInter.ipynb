{
 "cells": [
  {
   "cell_type": "markdown",
   "metadata": {},
   "source": [
    "# Démonstration interactive des algorithmes de tris\n",
    "\n",
    "Dans ce notebook, nous présentons interractivement différent algorithmes de tris et de partitionement:\n",
    "- deux variantes du tri à bulles\n",
    "- le tri par insertion\n",
    "- partitionement de gauche à droite\n",
    "- partitionement des deux cotés\n",
    "- tri rapide\n",
    "\n",
    "Nous n'avons pas pu faire de la même manière le tri par fusion car celui-ci n'est pas \"en place."
   ]
  },
  {
   "cell_type": "markdown",
   "metadata": {},
   "source": [
    "## Infrastructure pour \"tracer\" l'exécution des tris\n",
    "\n",
    "Vous pouvez, sans aucuns problèmes, ignorer ces fonctions"
   ]
  },
  {
   "cell_type": "code",
   "execution_count": 1,
   "metadata": {},
   "outputs": [],
   "source": [
    "def trace_algo(cmd):\n",
    "    sort_gen = iter(cmd)\n",
    "    def bla(cmd=selector([\"Step\"], \n",
    "                       buttons=True)):\n",
    "        global dessin\n",
    "        try:\n",
    "            mess, dessin = next(sort_gen)\n",
    "        except StopIteration:\n",
    "            mess = \"======== Finished =======\"\n",
    "        print(mess)\n",
    "        dessin.show(figsize=(7,4))\n",
    "    interact(bla)"
   ]
  },
  {
   "cell_type": "code",
   "execution_count": 2,
   "metadata": {},
   "outputs": [],
   "source": [
    "SIZE_POINT=100\n",
    "def plot_tab(tab):\n",
    "    return sum(point(v, size=SIZE_POINT) for v in\n",
    "                enumerate(tab))\n",
    "def vert(i, tab, **opts):\n",
    "    return line([(i, 0),(i, max(tab)+1)], **opts)\n",
    "def horiz(i, tab, **opts):\n",
    "    return line([(0,i),(len(tab)+1,i)], **opts)"
   ]
  },
  {
   "cell_type": "code",
   "execution_count": null,
   "metadata": {},
   "outputs": [],
   "source": []
  },
  {
   "cell_type": "markdown",
   "metadata": {},
   "source": [
    "## Astuce de point d'arret en Python : l'instruction yield"
   ]
  },
  {
   "cell_type": "markdown",
   "metadata": {},
   "source": [
    "L'instruction `yield` en python est une sorte de \"return\" qui quitte temporairement la fonction. On peut ensuite reprendre l'exécution. Voici un exemple:"
   ]
  },
  {
   "cell_type": "code",
   "execution_count": null,
   "metadata": {},
   "outputs": [],
   "source": [
    "def carres(n):\n",
    "    r\"\"\"\n",
    "    Génère la suite des carrées des nombres de 0 à n-1\n",
    "    \"\"\"\n",
    "    for i in range(n):\n",
    "        yield i*i"
   ]
  },
  {
   "cell_type": "markdown",
   "metadata": {},
   "source": [
    "On peut, par exemple, parcourir les différents résultats avec une boucle for: "
   ]
  },
  {
   "cell_type": "code",
   "execution_count": null,
   "metadata": {},
   "outputs": [],
   "source": [
    "for c in carres(5):\n",
    "    print(c)"
   ]
  },
  {
   "cell_type": "markdown",
   "metadata": {},
   "source": [
    "Ou les ranger dans une liste:"
   ]
  },
  {
   "cell_type": "code",
   "execution_count": null,
   "metadata": {
    "scrolled": true
   },
   "outputs": [],
   "source": [
    "list(carres(9))"
   ]
  },
  {
   "cell_type": "markdown",
   "metadata": {},
   "source": [
    "Le fonctionnement repose sur le protocol suivant:\n",
    "- l'appel de la fonction \"carres\" retourne un objet appelé générateur\n",
    "- la fonction builtin \"next\" interroge l'objet pour avoir le résultat suivant\n",
    "- s'il n'y a plus de résultat une exception est levée"
   ]
  },
  {
   "cell_type": "code",
   "execution_count": null,
   "metadata": {},
   "outputs": [],
   "source": [
    "it = carres(4); it"
   ]
  },
  {
   "cell_type": "code",
   "execution_count": null,
   "metadata": {},
   "outputs": [],
   "source": [
    "next(it)"
   ]
  },
  {
   "cell_type": "code",
   "execution_count": null,
   "metadata": {
    "scrolled": true
   },
   "outputs": [],
   "source": [
    "next(it)"
   ]
  },
  {
   "cell_type": "code",
   "execution_count": null,
   "metadata": {},
   "outputs": [],
   "source": [
    "next(it)"
   ]
  },
  {
   "cell_type": "code",
   "execution_count": null,
   "metadata": {},
   "outputs": [],
   "source": [
    "next(it)"
   ]
  },
  {
   "cell_type": "code",
   "execution_count": null,
   "metadata": {
    "scrolled": true
   },
   "outputs": [],
   "source": [
    "next(it)"
   ]
  },
  {
   "cell_type": "markdown",
   "metadata": {},
   "source": [
    "### Note :\n",
    "\n",
    "Il n'est pas important pour la suite de retenir ceci. On a juste besoin de savoir que yield nous permet d'introduire des points d'arrêt dans les fonctions."
   ]
  },
  {
   "cell_type": "code",
   "execution_count": null,
   "metadata": {},
   "outputs": [],
   "source": []
  },
  {
   "cell_type": "code",
   "execution_count": null,
   "metadata": {},
   "outputs": [],
   "source": []
  },
  {
   "cell_type": "markdown",
   "metadata": {},
   "source": [
    "<h1 style=\"text-align: center;\"><strong>Le tris à bulles</strong></h1>"
   ]
  },
  {
   "cell_type": "code",
   "execution_count": null,
   "metadata": {},
   "outputs": [],
   "source": [
    "def bubble_sort(T):\n",
    "    #########################################################\n",
    "    ## dessin qui va être affiché lors des points d'arrêt ###\n",
    "    ## vous pouvez complètement ingorer ce code.\n",
    "    def dessin():\n",
    "        return (\"i=%i, j=%i\"%(i,j), \n",
    "           sum(point((pos,v), size=SIZE_POINT, \n",
    "                color=\"blue\" if pos <= i else \"green\")\n",
    "               for pos, v in enumerate(tab))\n",
    "            +vert(i+1/2,tab,color=\"green\")\n",
    "            +vert(j+1/2,tab))\n",
    "    #########################################################\n",
    "    \n",
    "    yield \"Start\", plot_tab(T)          ## Point d'arret en début de boucle\n",
    "    for i in range(len(T)-1, 0, -1):\n",
    "        for j in range(i):\n",
    "            yield dessin()              ## Point d'arret avant l'échange\n",
    "            if T[j] > T[j+1]:\n",
    "                T[j], T[j+1] = T[j+1], T[j]  \n",
    "            yield dessin()              ## Point d'arret après l'échange"
   ]
  },
  {
   "cell_type": "code",
   "execution_count": null,
   "metadata": {},
   "outputs": [],
   "source": [
    "tab = [randint(0, 20) for i in range(10)]"
   ]
  },
  {
   "cell_type": "code",
   "execution_count": null,
   "metadata": {},
   "outputs": [],
   "source": [
    "tab"
   ]
  },
  {
   "cell_type": "code",
   "execution_count": null,
   "metadata": {},
   "outputs": [],
   "source": [
    "for _ in bubble_sort(tab): pass   # On ignore les points d'arrêt."
   ]
  },
  {
   "cell_type": "code",
   "execution_count": null,
   "metadata": {},
   "outputs": [],
   "source": [
    "tab"
   ]
  },
  {
   "cell_type": "code",
   "execution_count": null,
   "metadata": {},
   "outputs": [],
   "source": [
    "tab = [randint(0, 20) for i in range(10)]"
   ]
  },
  {
   "cell_type": "code",
   "execution_count": null,
   "metadata": {},
   "outputs": [],
   "source": []
  },
  {
   "cell_type": "code",
   "execution_count": null,
   "metadata": {},
   "outputs": [],
   "source": [
    "trace_algo(bubble_sort(tab))"
   ]
  },
  {
   "cell_type": "code",
   "execution_count": null,
   "metadata": {},
   "outputs": [],
   "source": []
  },
  {
   "cell_type": "code",
   "execution_count": null,
   "metadata": {},
   "outputs": [],
   "source": [
    "def bubble_sort_2d(T):\n",
    "    #########################################################\n",
    "    ## dessin qui va être affiché lors des points d'arrêt ###\n",
    "    ## vous pouvez complètement ingorer ce code.\n",
    "    def dessin():\n",
    "        return (\"i=%i, min=%i, max=%i\"%(i,min,max), \n",
    "           sum(point((pos,v), size=SIZE_POINT, \n",
    "                color=\"blue\" if min <= pos <= max else \"green\")\n",
    "               for pos, v in enumerate(tab))\n",
    "            + vert(min-1/2,tab, color=\"green\")\n",
    "            + vert(max+1/2,tab, color=\"green\")\n",
    "            + vert(i+1/2, tab, color=\"red\")\n",
    "            )\n",
    "    #########################################################\n",
    "    yield \"Start\", plot_tab(T)\n",
    "    min = 0\n",
    "    max = len(T)-1\n",
    "\n",
    "    while (min < max):\n",
    "        # Invariant les éléments d'indice < min ou > max sont à leurs places\n",
    "        # Phase montante\n",
    "        nborne = min\n",
    "        for i in range(min, max):\n",
    "            yield dessin()\n",
    "            if (T[i] > T[i+1]):\n",
    "               T[i], T[i+1] = T[i+1], T[i]\n",
    "               nborne = i\n",
    "        max = nborne\n",
    "        # Phase descendante\n",
    "        nborne = max\n",
    "        for i in range(max-1, min-1, -1):\n",
    "            yield dessin()\n",
    "            if (T[i] > T[i+1]):\n",
    "                T[i], T[i+1] = T[i+1], T[i]\n",
    "                nborne = i\n",
    "        min = nborne+1\n",
    "        yield dessin()"
   ]
  },
  {
   "cell_type": "code",
   "execution_count": null,
   "metadata": {},
   "outputs": [],
   "source": [
    "tab = [randint(0, 100) for i in range(10)]\n",
    "trace_algo(bubble_sort_2d(tab))"
   ]
  },
  {
   "cell_type": "markdown",
   "metadata": {},
   "source": [
    "<h1 style=\"text-align: center;\"><strong>Le tri par insertion</strong></h1>\n",
    "<p><strong><br /></strong></p>"
   ]
  },
  {
   "cell_type": "code",
   "execution_count": null,
   "metadata": {},
   "outputs": [],
   "source": [
    "def insert_sort(T):\n",
    "    #########################################################\n",
    "    ## dessin qui va être affiché lors des points d'arrêt ###\n",
    "    ## vous pouvez complètement ingorer ce code.\n",
    "    def dessin():\n",
    "        return (\"i=%i, j=%i, e=%i\"%(i,j,e), \n",
    "            plot_tab(T)+vert(j, tab)+horiz(e, tab))\n",
    "    #########################################################\n",
    "    yield \"Start\", plot_tab(T)\n",
    "    for i in range(1,len(T)):\n",
    "        e = T[i]\n",
    "        j = i\n",
    "        yield dessin()\n",
    "        while j>0 and T[j-1] > e:\n",
    "            T[j] = T[j-1]\n",
    "            j -= 1\n",
    "            yield dessin()\n",
    "        T[j] = e\n",
    "        yield dessin()"
   ]
  },
  {
   "cell_type": "code",
   "execution_count": null,
   "metadata": {
    "scrolled": true
   },
   "outputs": [],
   "source": [
    "tab = [randint(0, 20) for i in range(10)]\n",
    "print(tab)\n",
    "trace_algo(insert_sort(tab))"
   ]
  },
  {
   "cell_type": "code",
   "execution_count": null,
   "metadata": {},
   "outputs": [],
   "source": [
    "tab"
   ]
  },
  {
   "cell_type": "markdown",
   "metadata": {},
   "source": [
    "<h1 style=\"text-align: center;\"><strong>Partitionement</strong></h1>\n",
    "\n",
    "<h2>méthode gauche à droite</h2>"
   ]
  },
  {
   "cell_type": "code",
   "execution_count": 3,
   "metadata": {},
   "outputs": [],
   "source": [
    "def partition(Tab, P):\n",
    "    c = 0; j = 0    \n",
    "    #########################################################\n",
    "    ## dessin qui va être affiché lors des points d'arrêt ###\n",
    "    ## vous pouvez complètement ingorer ce code.\n",
    "    def dessin():\n",
    "        return (sum(point((i,v), size=SIZE_POINT, \n",
    "                   color=\"green\" if P(v) else \"red\") \n",
    "            for i,v in enumerate(tab)) \n",
    "            + vert(c, Tab, color=\"green\") + vert(j, Tab))\n",
    "    #########################################################\n",
    "    yield \"Start\", dessin()\n",
    "    c = 0\n",
    "    while c < len(Tab) and P(Tab[c]):\n",
    "        c +=1\n",
    "    yield   \"c=%i\"%c, dessin()+vert(c,Tab,color= \"green\")\n",
    "    for j in range(c+1, len(Tab)):\n",
    "        yield (\"c=%i, j=%i\"%(c, j), dessin())\n",
    "        if P(Tab[j]):\n",
    "            Tab[c], Tab[j] = Tab[j], Tab[c]\n",
    "            c +=1        \n",
    "            yield (\"c=%i, j=%i\"%(c, j), dessin())\n",
    "    yield (\"Retour %i\"%c, \n",
    "        dessin()+vert(c-1/2, Tab, color=\"blue\"))"
   ]
  },
  {
   "cell_type": "code",
   "execution_count": 7,
   "metadata": {},
   "outputs": [
    {
     "data": {
      "application/vnd.jupyter.widget-view+json": {
       "model_id": "4749354d9bb245ff8fe0fec794e37fd5",
       "version_major": 2,
       "version_minor": 0
      },
      "text/plain": [
       "Interactive function <function trace_algo.<locals>.bla at 0x7f1dc493e620> with 1 widget\n",
       "  cmd: ToggleButtons(d…"
      ]
     },
     "metadata": {},
     "output_type": "display_data"
    }
   ],
   "source": [
    "tab = [randint(0, 20) for i in range(20)]\n",
    "trace_algo(partition(tab, lambda x: x % 2 == 0))"
   ]
  },
  {
   "cell_type": "code",
   "execution_count": null,
   "metadata": {},
   "outputs": [],
   "source": []
  },
  {
   "cell_type": "markdown",
   "metadata": {},
   "source": [
    "<h2>Méthod des deux cotés</h2>"
   ]
  },
  {
   "cell_type": "code",
   "execution_count": 8,
   "metadata": {},
   "outputs": [],
   "source": [
    "def partition2(Tab, P):\n",
    "    #########################################################\n",
    "    ## dessin qui va être affiché lors des points d'arrêt ###\n",
    "    ## vous pouvez complètement ingorer ce code.\n",
    "    def dessin():\n",
    "        return (sum(point((i,v), size=SIZE_POINT, \n",
    "                   color=\"green\" if P(v) else \"red\") \n",
    "            for i,v in enumerate(tab)) \n",
    "            + vert(i, Tab, color=\"green\")\n",
    "            + vert(j, Tab, color=\"red\"))\n",
    "    #########################################################            \n",
    "    i = 0\n",
    "    j = len(Tab)-1\n",
    "    yield         \"Start\", dessin()\n",
    "    while i <= j:\n",
    "        while P(Tab[i]): i += 1\n",
    "        while not P(Tab[j]): j -= 1\n",
    "        yield      \"i=%i, j=%i\"%(i, j), dessin()\n",
    "        if i<j:\n",
    "            Tab[i], Tab[j] = Tab[j], Tab[i]\n",
    "            yield \"i=%i, j=%i\"%(i, j), dessin()\n",
    "            i += 1; j -= 1\n",
    "    yield         (\"Retour %i\"%(i), \n",
    "            dessin() + vert(i-1/2, Tab, color=\"blue\"))"
   ]
  },
  {
   "cell_type": "code",
   "execution_count": 26,
   "metadata": {},
   "outputs": [
    {
     "data": {
      "application/vnd.jupyter.widget-view+json": {
       "model_id": "bfcff0bd00604cca9772e2cb6c03e7cc",
       "version_major": 2,
       "version_minor": 0
      },
      "text/plain": [
       "Interactive function <function trace_algo.<locals>.bla at 0x7f1dc48507b8> with 1 widget\n",
       "  cmd: ToggleButtons(d…"
      ]
     },
     "metadata": {},
     "output_type": "display_data"
    }
   ],
   "source": [
    "tab = [randint(0, 20) for i in range(20)]\n",
    "\n",
    "trace_algo(partition2(tab, lambda x: x % 3 == 0))"
   ]
  },
  {
   "cell_type": "code",
   "execution_count": null,
   "metadata": {},
   "outputs": [],
   "source": []
  },
  {
   "cell_type": "markdown",
   "metadata": {},
   "source": [
    "<h1 style=\"text-align: center;\">Tri rapide (Quick Sort)</h1>"
   ]
  },
  {
   "cell_type": "code",
   "execution_count": null,
   "metadata": {},
   "outputs": [],
   "source": [
    "def quicksort(tab, min, max):    \n",
    "    #########################################################\n",
    "    ## dessin qui va être affiché lors des points d'arrêt ###\n",
    "    ## vous pouvez complètement ingorer ce code.\n",
    "    def dessin():\n",
    "        return(\n",
    "           \"min = %i, max=%i, pivot=%i, i=%i, j=%i\"%(\n",
    "                min, max, pivot, i, j),\n",
    "            sum(point((pos,v), size=SIZE_POINT, \n",
    "                color = \n",
    "                     \"blue\" if pos < min or pos > max\n",
    "                     else \n",
    "                     \"red\" if v > pivot \n",
    "                     else \n",
    "                     \"green\") \n",
    "            for pos,v in enumerate(tab)) \n",
    "            + vert(i, tab, color=\"black\")\n",
    "            # + vert(j, tab, color=\"blue\")\n",
    "            + vert(min, tab, color=\"blue\")\n",
    "            + vert(max, tab, color=\"blue\") \n",
    "            + horiz(pivot, tab))\n",
    "    #########################################################           \n",
    "    if min < max:\n",
    "        pivot = tab[max]\n",
    "        # Partitionnement\n",
    "        i = min\n",
    "        j = max-1\n",
    "        yield dessin()\n",
    "        while True:\n",
    "            while tab[i] < pivot: i +=1\n",
    "            while tab[j] > pivot: j -=1\n",
    "            if i < j:\n",
    "                tab[i], tab[j] = tab[j], tab[i]\n",
    "                i += 1; j -= 1\n",
    "            else:\n",
    "                tab[i], tab[max] = tab[max], tab[i]\n",
    "                break\n",
    "        # Appel récursif\n",
    "        yield dessin()\n",
    "        for step in quicksort(tab, min, i-1): \n",
    "            yield step\n",
    "        for step in quicksort(tab, i+1, max): \n",
    "            yield step"
   ]
  },
  {
   "cell_type": "code",
   "execution_count": null,
   "metadata": {},
   "outputs": [],
   "source": [
    "tab = [randint(0, 20) for i in range(15)]\n",
    "print(tab)\n",
    "for step in quicksort(tab, 0, len(tab)-1):\n",
    "    pass\n",
    "tab"
   ]
  },
  {
   "cell_type": "code",
   "execution_count": null,
   "metadata": {},
   "outputs": [],
   "source": [
    "tab = [randint(0, 20) for i in range(20)]\n",
    "trace_algo(quicksort(tab, 0, len(tab)-1))"
   ]
  },
  {
   "cell_type": "code",
   "execution_count": null,
   "metadata": {},
   "outputs": [],
   "source": []
  },
  {
   "cell_type": "code",
   "execution_count": null,
   "metadata": {},
   "outputs": [],
   "source": []
  },
  {
   "cell_type": "code",
   "execution_count": null,
   "metadata": {},
   "outputs": [],
   "source": []
  },
  {
   "cell_type": "code",
   "execution_count": null,
   "metadata": {},
   "outputs": [],
   "source": []
  },
  {
   "cell_type": "code",
   "execution_count": null,
   "metadata": {},
   "outputs": [],
   "source": []
  },
  {
   "cell_type": "code",
   "execution_count": null,
   "metadata": {},
   "outputs": [],
   "source": []
  },
  {
   "cell_type": "code",
   "execution_count": null,
   "metadata": {},
   "outputs": [],
   "source": []
  }
 ],
 "metadata": {
  "kernelspec": {
   "display_name": "SageMath 9.0",
   "language": "sage",
   "name": "sagemath"
  },
  "language": "python",
  "language_info": {
   "codemirror_mode": {
    "name": "ipython",
    "version": 3
   },
   "file_extension": ".py",
   "mimetype": "text/x-python",
   "name": "python",
   "nbconvert_exporter": "python",
   "pygments_lexer": "ipython3",
   "version": "3.7.3"
  }
 },
 "nbformat": 4,
 "nbformat_minor": 2
}
